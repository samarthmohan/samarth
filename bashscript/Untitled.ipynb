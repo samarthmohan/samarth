{
 "cells": [
  {
   "cell_type": "code",
   "execution_count": 1,
   "id": "0bb31139",
   "metadata": {},
   "outputs": [
    {
     "name": "stdout",
     "output_type": "stream",
     "text": [
      "Collecting pandas\n",
      "  Downloading pandas-1.4.3-cp310-cp310-macosx_10_9_x86_64.whl (11.5 MB)\n",
      "\u001b[2K     \u001b[90m━━━━━━━━━━━━━━━━━━━━━━━━━━━━━━━━━━━━━━━━\u001b[0m \u001b[32m11.5/11.5 MB\u001b[0m \u001b[31m25.7 MB/s\u001b[0m eta \u001b[36m0:00:00\u001b[0m00:01\u001b[0m00:01\u001b[0m\n",
      "\u001b[?25hRequirement already satisfied: pytz>=2020.1 in /usr/local/Cellar/jupyterlab/3.4.5/libexec/lib/python3.10/site-packages (from pandas) (2022.2)\n",
      "Collecting numpy>=1.21.0\n",
      "  Downloading numpy-1.23.2-cp310-cp310-macosx_10_9_x86_64.whl (18.1 MB)\n",
      "\u001b[2K     \u001b[90m━━━━━━━━━━━━━━━━━━━━━━━━━━━━━━━━━━━━━━━━\u001b[0m \u001b[32m18.1/18.1 MB\u001b[0m \u001b[31m21.3 MB/s\u001b[0m eta \u001b[36m0:00:00\u001b[0m00:01\u001b[0m00:01\u001b[0m\n",
      "\u001b[?25hRequirement already satisfied: python-dateutil>=2.8.1 in /usr/local/Cellar/jupyterlab/3.4.5/libexec/lib/python3.10/site-packages (from pandas) (2.8.2)\n",
      "Requirement already satisfied: six>=1.5 in /usr/local/Cellar/six/1.16.0_2/lib/python3.10/site-packages (from python-dateutil>=2.8.1->pandas) (1.16.0)\n",
      "Installing collected packages: numpy, pandas\n",
      "Successfully installed numpy-1.23.2 pandas-1.4.3\n",
      "Note: you may need to restart the kernel to use updated packages.\n"
     ]
    }
   ],
   "source": [
    "pip install pandas"
   ]
  },
  {
   "cell_type": "code",
   "execution_count": 2,
   "id": "85958d69",
   "metadata": {},
   "outputs": [],
   "source": [
    "import pandas as ps"
   ]
  },
  {
   "cell_type": "code",
   "execution_count": 10,
   "id": "0738019c",
   "metadata": {},
   "outputs": [],
   "source": [
    "df_premier_2021 = ps.read_csv('https://www.football-data.co.uk/mmz4281/2223/E0.csv')"
   ]
  },
  {
   "cell_type": "code",
   "execution_count": 12,
   "id": "af1fc75e",
   "metadata": {},
   "outputs": [
    {
     "name": "stdout",
     "output_type": "stream",
     "text": [
      "   Div        Date   Time        HomeTeam        AwayTeam  FTHG  FTAG FTR  \\\n",
      "0   E0  05/08/2022  20:00  Crystal Palace         Arsenal     0     2   A   \n",
      "1   E0  06/08/2022  12:30          Fulham       Liverpool     2     2   D   \n",
      "2   E0  06/08/2022  15:00     Bournemouth     Aston Villa     2     0   H   \n",
      "3   E0  06/08/2022  15:00           Leeds          Wolves     2     1   H   \n",
      "4   E0  06/08/2022  15:00       Newcastle   Nott'm Forest     2     0   H   \n",
      "5   E0  06/08/2022  15:00       Tottenham     Southampton     4     1   H   \n",
      "6   E0  06/08/2022  17:30         Everton         Chelsea     0     1   A   \n",
      "7   E0  07/08/2022  14:00       Leicester       Brentford     2     2   D   \n",
      "8   E0  07/08/2022  14:00      Man United        Brighton     1     2   A   \n",
      "9   E0  07/08/2022  16:30        West Ham        Man City     0     2   A   \n",
      "10  E0  13/08/2022  12:30     Aston Villa         Everton     2     1   H   \n",
      "11  E0  13/08/2022  15:00         Arsenal       Leicester     4     2   H   \n",
      "12  E0  13/08/2022  15:00        Brighton       Newcastle     0     0   D   \n",
      "13  E0  13/08/2022  15:00        Man City     Bournemouth     4     0   H   \n",
      "14  E0  13/08/2022  15:00     Southampton           Leeds     2     2   D   \n",
      "15  E0  13/08/2022  15:00          Wolves          Fulham     0     0   D   \n",
      "16  E0  13/08/2022  17:30       Brentford      Man United     4     0   H   \n",
      "17  E0  14/08/2022  14:00   Nott'm Forest        West Ham     1     0   H   \n",
      "18  E0  14/08/2022  16:30         Chelsea       Tottenham     2     2   D   \n",
      "19  E0  15/08/2022  20:00       Liverpool  Crystal Palace     1     1   D   \n",
      "\n",
      "    HTHG  HTAG  ... AvgC<2.5  AHCh  B365CAHH  B365CAHA  PCAHH  PCAHA  MaxCAHH  \\\n",
      "0      0     1  ...     1.76  0.50      2.09      1.84   2.04   1.88     2.09   \n",
      "1      1     0  ...     2.73  1.75      1.90      2.03   1.91   2.02     2.01   \n",
      "2      1     0  ...     1.76  0.50      1.93      2.00   1.93   2.00     1.94   \n",
      "3      1     1  ...     1.87 -0.25      2.08      1.85   2.10   1.84     2.14   \n",
      "4      0     0  ...     1.89 -1.00      1.97      1.96   1.99   1.93     2.19   \n",
      "5      2     1  ...     2.31 -1.50      2.07      1.86   2.04   1.88     2.08   \n",
      "6      0     1  ...     1.77  1.00      1.93      2.00   1.94   1.98     1.94   \n",
      "7      1     0  ...     1.97 -0.50      1.94      1.99   1.96   1.96     1.96   \n",
      "8      0     2  ...     1.94 -0.75      2.06      1.87   2.05   1.88     2.08   \n",
      "9      0     1  ...     2.62  1.50      1.85      2.08   1.85   2.08     2.00   \n",
      "10     1     0  ...     1.74 -0.75      2.05      1.85   2.07   1.87     2.07   \n",
      "11     2     0  ...     2.22 -1.00      1.98      1.92   1.96   1.96     1.99   \n",
      "12     0     0  ...     1.73 -0.25      2.11      1.79   2.13   1.82     2.14   \n",
      "13     3     0  ...     3.67 -2.75      1.95      1.95   1.94   1.94     1.98   \n",
      "14     0     0  ...     2.28 -0.25      2.09      1.81   2.12   1.83     2.13   \n",
      "15     0     0  ...     1.88 -0.25      1.90      2.00   1.92   2.01     1.95   \n",
      "16     4     0  ...     2.18  0.50      2.08      1.73   2.17   1.78     2.19   \n",
      "17     1     0  ...     1.96  0.50      1.90      2.00   1.93   1.99     1.96   \n",
      "18     1     0  ...     1.93 -0.25      1.86      2.04   1.87   2.07     1.92   \n",
      "19     0     1  ...     2.40 -1.75      2.06      1.84   2.08   1.83     2.08   \n",
      "\n",
      "    MaxCAHA  AvgCAHH  AvgCAHA  \n",
      "0      1.88     2.03     1.85  \n",
      "1      2.06     1.89     1.99  \n",
      "2      2.04     1.88     2.00  \n",
      "3      1.87     2.08     1.81  \n",
      "4      1.97     2.03     1.86  \n",
      "5      1.88     2.03     1.85  \n",
      "6      2.11     1.88     2.00  \n",
      "7      2.04     1.92     1.96  \n",
      "8      1.97     2.00     1.88  \n",
      "9      2.12     1.85     2.04  \n",
      "10     1.90     2.02     1.86  \n",
      "11     2.00     1.94     1.94  \n",
      "12     1.84     2.08     1.81  \n",
      "13     2.02     1.92     1.95  \n",
      "14     1.84     2.10     1.79  \n",
      "15     2.05     1.90     1.98  \n",
      "16     1.95     2.04     1.84  \n",
      "17     2.04     1.92     1.95  \n",
      "18     2.07     1.86     2.02  \n",
      "19     2.09     2.02     1.86  \n",
      "\n",
      "[20 rows x 106 columns]\n"
     ]
    }
   ],
   "source": [
    "print (df_premier_2021)"
   ]
  },
  {
   "cell_type": "code",
   "execution_count": null,
   "id": "1d168226",
   "metadata": {},
   "outputs": [],
   "source": []
  },
  {
   "cell_type": "code",
   "execution_count": null,
   "id": "d16d002e",
   "metadata": {},
   "outputs": [],
   "source": []
  }
 ],
 "metadata": {
  "kernelspec": {
   "display_name": "Python 3 (ipykernel)",
   "language": "python",
   "name": "python3"
  },
  "language_info": {
   "codemirror_mode": {
    "name": "ipython",
    "version": 3
   },
   "file_extension": ".py",
   "mimetype": "text/x-python",
   "name": "python",
   "nbconvert_exporter": "python",
   "pygments_lexer": "ipython3",
   "version": "3.10.6"
  }
 },
 "nbformat": 4,
 "nbformat_minor": 5
}
